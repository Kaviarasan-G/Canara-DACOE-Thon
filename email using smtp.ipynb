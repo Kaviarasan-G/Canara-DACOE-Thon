{
 "cells": [
  {
   "cell_type": "code",
   "execution_count": 1,
   "id": "0dba0011",
   "metadata": {},
   "outputs": [
    {
     "name": "stdout",
     "output_type": "stream",
     "text": [
      "Collecting secure-smtplib\n",
      "  Downloading secure_smtplib-0.1.1-py2.py3-none-any.whl (3.4 kB)\n",
      "Installing collected packages: secure-smtplib\n",
      "Successfully installed secure-smtplib-0.1.1\n",
      "Note: you may need to restart the kernel to use updated packages.\n"
     ]
    }
   ],
   "source": [
    "pip install secure-smtplib"
   ]
  },
  {
   "cell_type": "code",
   "execution_count": 4,
   "id": "18994830",
   "metadata": {},
   "outputs": [],
   "source": [
    "import smtplib\n",
    "import random\n",
    "import joblib\n",
    "import pandas as pd\n",
    "import datetime as dt"
   ]
  },
  {
   "cell_type": "code",
   "execution_count": 8,
   "metadata": {},
   "outputs": [],
   "source": [
    "pd.options.display.max_columns=999"
   ]
  },
  {
   "cell_type": "code",
   "execution_count": 3,
   "id": "8f2a6da2",
   "metadata": {},
   "outputs": [],
   "source": [
    "conn= smtplib.SMTP('smtp.gmail.com',587)"
   ]
  },
  {
   "cell_type": "code",
   "execution_count": 4,
   "id": "372cf9bb",
   "metadata": {},
   "outputs": [
    {
     "data": {
      "text/plain": [
       "smtplib.SMTP"
      ]
     },
     "execution_count": 4,
     "metadata": {},
     "output_type": "execute_result"
    }
   ],
   "source": [
    "type(conn)"
   ]
  },
  {
   "cell_type": "code",
   "execution_count": 5,
   "id": "c4856a8b",
   "metadata": {},
   "outputs": [
    {
     "data": {
      "text/plain": [
       "(250,\n",
       " b'smtp.gmail.com at your service, [49.204.124.214]\\nSIZE 35882577\\n8BITMIME\\nSTARTTLS\\nENHANCEDSTATUSCODES\\nPIPELINING\\nCHUNKING\\nSMTPUTF8')"
      ]
     },
     "execution_count": 5,
     "metadata": {},
     "output_type": "execute_result"
    }
   ],
   "source": [
    "conn.ehlo()"
   ]
  },
  {
   "cell_type": "code",
   "execution_count": 6,
   "id": "557c75cb",
   "metadata": {},
   "outputs": [
    {
     "data": {
      "text/plain": [
       "(220, b'2.0.0 Ready to start TLS')"
      ]
     },
     "execution_count": 6,
     "metadata": {},
     "output_type": "execute_result"
    }
   ],
   "source": [
    "conn.starttls()"
   ]
  },
  {
   "cell_type": "code",
   "execution_count": 7,
   "id": "d3a9589e",
   "metadata": {},
   "outputs": [
    {
     "data": {
      "text/plain": [
       "(235, b'2.7.0 Accepted')"
      ]
     },
     "execution_count": 7,
     "metadata": {},
     "output_type": "execute_result"
    }
   ],
   "source": [
    "conn.login('canarabankmailalerts@gmail.com',\"didl kpvp llsw wwkw\")"
   ]
  },
  {
   "cell_type": "code",
   "execution_count": 8,
   "id": "6370b5bf",
   "metadata": {},
   "outputs": [
    {
     "data": {
      "text/plain": [
       "{}"
      ]
     },
     "execution_count": 8,
     "metadata": {},
     "output_type": "execute_result"
    }
   ],
   "source": [
    "conn.sendmail('canarabankmailalerts@gmail.com','kaviarasanant@gmail.com','Subject: sending email using python\\n\\n Hi preetham')"
   ]
  },
  {
   "cell_type": "code",
   "execution_count": 5,
   "metadata": {},
   "outputs": [],
   "source": [
    "model = joblib.load(\"C:/Users/in22labs_DA1/Hackathon_Fraud_Prevention/random_forest_pipeline.pkl\")"
   ]
  },
  {
   "cell_type": "code",
   "execution_count": 12,
   "metadata": {},
   "outputs": [
    {
     "data": {
      "text/html": [
       "<div>\n",
       "<style scoped>\n",
       "    .dataframe tbody tr th:only-of-type {\n",
       "        vertical-align: middle;\n",
       "    }\n",
       "\n",
       "    .dataframe tbody tr th {\n",
       "        vertical-align: top;\n",
       "    }\n",
       "\n",
       "    .dataframe thead th {\n",
       "        text-align: right;\n",
       "    }\n",
       "</style>\n",
       "<table border=\"1\" class=\"dataframe\">\n",
       "  <thead>\n",
       "    <tr style=\"text-align: right;\">\n",
       "      <th></th>\n",
       "      <th>S.no</th>\n",
       "      <th>trans_date_trans_time</th>\n",
       "      <th>cc_num</th>\n",
       "      <th>merchant</th>\n",
       "      <th>category</th>\n",
       "      <th>amt</th>\n",
       "      <th>first</th>\n",
       "      <th>last</th>\n",
       "      <th>gender</th>\n",
       "      <th>street</th>\n",
       "      <th>...</th>\n",
       "      <th>job</th>\n",
       "      <th>dob</th>\n",
       "      <th>trans_num</th>\n",
       "      <th>unix_time</th>\n",
       "      <th>merch_lat</th>\n",
       "      <th>merch_long</th>\n",
       "      <th>Avg. Transaction Freq. Per day</th>\n",
       "      <th>Avg. Transaction Freq. Per week</th>\n",
       "      <th>Avg. Transaction Freq. Per month</th>\n",
       "      <th>Transaction velocity</th>\n",
       "    </tr>\n",
       "  </thead>\n",
       "  <tbody>\n",
       "    <tr>\n",
       "      <th>0</th>\n",
       "      <td>0</td>\n",
       "      <td>2019-01-01 00:00:18</td>\n",
       "      <td>2703186189652090</td>\n",
       "      <td>fraud_Rippin, Kub and Mann</td>\n",
       "      <td>misc_net</td>\n",
       "      <td>4.97</td>\n",
       "      <td>Jennifer</td>\n",
       "      <td>Banks</td>\n",
       "      <td>F</td>\n",
       "      <td>561 Perry Cove</td>\n",
       "      <td>...</td>\n",
       "      <td>Psychologist counselling</td>\n",
       "      <td>1988-03-09</td>\n",
       "      <td>0b242abb623afc578575680df30655b9</td>\n",
       "      <td>1325376018</td>\n",
       "      <td>36.011293</td>\n",
       "      <td>-82.048315</td>\n",
       "      <td>3.809764</td>\n",
       "      <td>26.668348</td>\n",
       "      <td>114.29292</td>\n",
       "      <td>High</td>\n",
       "    </tr>\n",
       "  </tbody>\n",
       "</table>\n",
       "<p>1 rows × 26 columns</p>\n",
       "</div>"
      ],
      "text/plain": [
       "   S.no trans_date_trans_time            cc_num                    merchant  \\\n",
       "0     0   2019-01-01 00:00:18  2703186189652090  fraud_Rippin, Kub and Mann   \n",
       "\n",
       "   category   amt     first   last gender          street  ...  \\\n",
       "0  misc_net  4.97  Jennifer  Banks      F  561 Perry Cove  ...   \n",
       "\n",
       "                        job         dob                         trans_num  \\\n",
       "0  Psychologist counselling  1988-03-09  0b242abb623afc578575680df30655b9   \n",
       "\n",
       "    unix_time  merch_lat  merch_long Avg. Transaction Freq. Per day  \\\n",
       "0  1325376018  36.011293  -82.048315                       3.809764   \n",
       "\n",
       "  Avg. Transaction Freq. Per week Avg. Transaction Freq. Per month  \\\n",
       "0                       26.668348                        114.29292   \n",
       "\n",
       "   Transaction velocity  \n",
       "0                  High  \n",
       "\n",
       "[1 rows x 26 columns]"
      ]
     },
     "execution_count": 12,
     "metadata": {},
     "output_type": "execute_result"
    }
   ],
   "source": [
    "df_col=['S.no','trans_date_trans_time','cc_num','merchant','category','amt','first','last','gender','street','city','state','zip','lat','long','city_pop','job','dob','trans_num','unix_time','merch_lat','merch_long','Avg. Transaction Freq. Per day','Avg. Transaction Freq. Per week', 'Avg. Transaction Freq. Per month','Transaction velocity']\n",
    "df_list=[0,'2019-01-01 00:00:18',2703186189652090,'fraud_Rippin, Kub and Mann','misc_net',4.97,'Jennifer','Banks','F','561 Perry Cove','Moravian Falls','NC',28654,36.0788,-81.1781,3495,'Psychologist counselling','1988-03-09','0b242abb623afc578575680df30655b9',1325376018,36.011293,-82.048315,3.809764,26.668348,114.292920,'High']\n",
    "df=pd.DataFrame([df_list],columns=df_col)\n",
    "df.head()"
   ]
  },
  {
   "cell_type": "code",
   "execution_count": 13,
   "metadata": {},
   "outputs": [],
   "source": [
    "df['age'] = dt.date.today().year - pd.to_datetime(df['dob']).dt.year\n",
    "\n",
    "df['hour']=pd.to_datetime(df['trans_date_trans_time']).dt.hour\n",
    "df['day']=pd.to_datetime(df['trans_date_trans_time']).dt.dayofweek\n",
    "df['month']=pd.to_datetime(df['trans_date_trans_time']).dt.month"
   ]
  },
  {
   "cell_type": "code",
   "execution_count": 14,
   "metadata": {},
   "outputs": [],
   "source": [
    "col_prediction=['category', 'amt', 'gender', 'city', 'state', 'city_pop',\n",
    "       'Avg. Transaction Freq. Per day', 'Avg. Transaction Freq. Per week', 'Avg. Transaction Freq. Per month', 'Transaction velocity', 'age',\n",
    "       'hour', 'day', 'month']"
   ]
  },
  {
   "cell_type": "code",
   "execution_count": 15,
   "metadata": {},
   "outputs": [
    {
     "data": {
      "text/plain": [
       "array([0], dtype=int64)"
      ]
     },
     "execution_count": 15,
     "metadata": {},
     "output_type": "execute_result"
    }
   ],
   "source": [
    "model.predict(df[col_prediction])"
   ]
  },
  {
   "cell_type": "code",
   "execution_count": 61,
   "id": "8ec9d3f7",
   "metadata": {},
   "outputs": [],
   "source": [
    "import smtplib\n",
    "from email.mime.text import MIMEText\n",
    "from email.mime.multipart import MIMEMultipart\n",
    "\n",
    "port = 587\n",
    "smtp_server = \"smtp.gmail.com\"\n",
    "login = \"canaraalerts@gmail.com\"  # Your Gmail email address\n",
    "password = \"ymrz kjdj jnpq zbiq\"  # Your Gmail App Password (generated in Gmail settings)\n",
    "\n",
    "sender_email = \"canarabankmailalerts@gmail.com\"\n",
    "receiver_email = \"abamit17107@gmail.com,bala.d7868@gmail.com\"\n",
    "message = MIMEMultipart(\"alternative\")\n",
    "message[\"Subject\"] = \"Two Step Authentication Alert\"\n",
    "message[\"From\"] = sender_email\n",
    "message[\"To\"] = receiver_email\n",
    "def generate_otp():\n",
    "    return random.randint(100000, 999999)\n",
    "\n",
    "# Example usage\n",
    "OTP = generate_otp()    \n",
    "# Write the text/plain part\n",
    "text = f\"\"\"\n",
    "Dear [Customer Name],\n",
    "\n",
    "We have detected a potentially fraudulent transaction associated with your account. For your security, we have triggered a One-Time Password (OTP) to verify the authenticity of this transaction. Please use the following OTP within the next 10 minutes:\n",
    "\n",
    "OTP: {OTP}\n",
    "\n",
    "If you did not initiate this transaction or suspect any unauthorized activity, please contact our customer support immediately at [Customer Support Contact Details].\n",
    "\n",
    "Thank you for your cooperation in maintaining the security of your account.\n",
    "\n",
    "Best regards,\n",
    "Canara bank\n",
    "\"\"\"\n",
    "# Write the HTML part\n",
    "\n",
    "\n",
    "# Convert both parts to MIMEText objects and add them to the MIMEMultipart message\n",
    "part1 = MIMEText(text, \"plain\")\n",
    "#part2 = MIMEText(html, \"html\")\n",
    "message.attach(part1)\n",
    "\n",
    "\n",
    "# Send your email using TLS (port 587)\n",
    "with smtplib.SMTP(smtp_server, port) as server:\n",
    "    server.starttls()\n",
    "    server.login(login, password)\n",
    "    server.sendmail(sender_email, receiver_email, message.as_string())\n"
   ]
  },
  {
   "cell_type": "code",
   "execution_count": null,
   "metadata": {},
   "outputs": [],
   "source": [
    "html =  \"\"\"\n",
    "<html lang=\"en\">\n",
    "\n",
    "<head>\n",
    "    <meta charset=\"UTF-8\">\n",
    "    <meta name=\"viewport\" content=\"width=device-width, initial-scale=1.0\">\n",
    "    <title>temp2</title>\n",
    "    <link rel=\"preconnect\" href=\"https://fonts.googleapis.com\">\n",
    "    <link rel=\"preconnect\" href=\"https://fonts.gstatic.com\" crossorigin>\n",
    "    <link href=\"https://fonts.googleapis.com/css2?family=Varela+Round&display=swap\" rel=\"stylesheet\">\n",
    "    \n",
    "    <style>\n",
    "        * {\n",
    "            font-family: 'Varela Round', sans-serif;;\n",
    "        }\n",
    "\n",
    "        #container{\n",
    "            background-image: url(https://e0.pxfuel.com/wallpapers/1009/556/desktop-wallpaper-blue-yellow-abstract-gallery-for-your-mobile-tablet-explore-light-blue-and-yellow-light-blue-green-yellow-yellow-and-white-abstract.jpg);\n",
    "            background-size: 100%;\n",
    "            background-repeat: no-repeat;\n",
    "            background-size: cover;\n",
    "        }\n",
    "\n",
    "        table {\n",
    "            margin-left: auto;\n",
    "            margin-right: auto;\n",
    "            width: 100%;\n",
    "            border-spacing: 0px !important;\n",
    "            border: 0.5px solid #000;\n",
    "            margin-top: 20px;\n",
    "        }\n",
    "\n",
    "        th {\n",
    "            background-color: #a00000;\n",
    "            border-right: 0.5px solid #000;\n",
    "            border-top: 0.5px solid #000;\n",
    "        }\n",
    "\n",
    "        tr {\n",
    "            background: #ffffff\n",
    "        }\n",
    "\n",
    "        td {\n",
    "            padding-left: 10px;\n",
    "            padding-right: 10px;\n",
    "            border-bottom: 0.5px solid #000;\n",
    "            border-right: 0.5px solid #000;\n",
    "            border-spacing: 0px !important;\n",
    "            align-items: center;\n",
    "        }\n",
    "\n",
    "        table thead tr td:first-child {\n",
    "            border-left: 0.5px solid #000 !important;\n",
    "        }\n",
    "\n",
    "        table tbody tr td:first-child {\n",
    "            border-left: 0.5px solid #000 !important;\n",
    "        }\n",
    "    </style>\n",
    "</head>\n",
    "\n",
    "<body>\n",
    "    <div\n",
    "        style=\"font-family: 'Mooli', sans-serif;  width: 500px; margin: auto; margin-top: 100px; border-radius: 10px; box-shadow: rgba(60, 64, 67, 0.3) 0px 1px 2px 0px, rgba(60, 64, 67, 0.15) 0px 1px 3px 1px; padding: 20px;\"id=\"container\">\n",
    "        <div style=\"background-color: #ffffff;padding: 10px; border-radius: 10px;width: 450px;margin-left: auto;margin-right: auto; margin-top:20px;margin-bottom: 20px;\">\n",
    "        <div class=\"align-center\" style=\"font-family: 'Mooli', sans-serif; text-align: center;\">\n",
    "            <span class=\"colour\" style=\"color:#019eec\"><span class=\"font\" style=\"font-family:verdana, sans-serif\"><span class=\"size\" style=\"font-size:x-large; font-weight: 800;font-family: 'Varela Round', sans-serif;\">F R A U D &nbsp;&nbsp;A L E R T</span></span></span><br style=\"font-family: 'Mooli', sans-serif;\">\n",
    "            <!-- <img src=\"https://www.wpra.com/wp-content/uploads/bell-icon-red.png\" width=\"100\" height=\"80\" style=\"font-family: 'Mooli', sans-serif;\"> -->\n",
    "            <img src=\"https://www.consumercomplaints.in/thumb.php?bname=1&src=canara-bank.jpg&wmax=900&hmax=900&quality=90&nocrop=1\"  height=\"50\" style=\"font-family: 'Mooli', sans-serif;\">\n",
    "\n",
    "        </div>\n",
    "        <div class=\"align-left\" style=\"font-family: 'Mooli', sans-serif; text-align: left;\">\n",
    "            <span class=\"colour\" style=\"color:rgb(49, 50, 57)\"><b><span class=\"font\" style=\"font-family:verdana, sans-serif\"><span class=\"size\" style=\"font-size:larger\">Dear User,</span></span></b></span><br style=\"font-family: 'Mooli', sans-serif;\">\n",
    "        </div>\n",
    "        <div class=\"align-left\" style=\"font-family: 'Mooli', sans-serif; text-align: left;\"><br style=\"font-family: 'Mooli', sans-serif;\">\n",
    "        </div>\n",
    "        <div class=\"align-left\" style=\"font-family: 'Mooli', sans-serif; text-align: justify;\">\n",
    "            <span class=\"colour\" style=\"color:rgb(110, 110, 110)\"><span class=\"font\" style=\"font-family:Mooli, sans-serif\"><span class=\"font\" style=\"font-family:verdana, sans-serif\"><span class=\"font\" style=\"font-family:Mooli, sans-serif\"><span class=\"font\" style=\"font-family:Mooli, sans-serif\"><span class=\"size\" style=\"font-size:13.3333px;font-weight: 500;\">We have detected a potentially fraudulent transaction associated with your account. For your security, we have triggered a One-Time Password (OTP) to verify the authenticity of this transaction. Please use the following OTP within the next 10 minutes:</span></span></span></span></span></span><br style=\"font-family: 'Mooli', sans-serif;\">\n",
    "        </div>\n",
    "        <div class=\"align-left\" style=\"font-family: 'Mooli', sans-serif; text-align: left; margin-top: 10px;\">\n",
    "            <span class=\"colour\" style=\"color:rgb(110, 110, 110)\"><span class=\"font\" style=\"font-family:Mooli, sans-serif\"><span class=\"font\" style=\"font-family:verdana, sans-serif\"><span class=\"font\" style=\"font-family:Mooli, sans-serif\"><span class=\"font\" style=\"font-family:Mooli, sans-serif\"><span class=\"size\" style=\"font-size:13.3333px;font-weight: 500;\">OTP: {OTP}</span></span></span></span></span></span><br>\n",
    "        </div>\n",
    "        <div class=\"align-left\" style=\"font-family: 'Mooli', sans-serif; text-align: justify; margin-top: 10px;\">\n",
    "            <span class=\"colour\" style=\"color:rgb(110, 110, 110)\"><span class=\"font\" style=\"font-family:Mooli, sans-serif\"><span class=\"font\" style=\"font-family:verdana, sans-serif\"><span class=\"font\" style=\"font-family:Mooli, sans-serif\"><span class=\"font\" style=\"font-family:Mooli, sans-serif\"><span class=\"size\" style=\"font-size:13.3333px;font-weight: 500;\">If you did not initiate this transaction or suspect any unauthorized activity, please contact our customer support immediately at [Customer Support Contact Details].</span></span></span></span></span></span><br style=\"font-family: 'Mooli', sans-serif;\">\n",
    "        </div>\n",
    "        <div class=\"align-left\" style=\"font-family: 'Mooli', sans-serif; text-align: left; margin-top: 10px;\">\n",
    "            <span class=\"colour\" style=\"color:rgb(110, 110, 110)\"><span class=\"font\" style=\"font-family:Mooli, sans-serif\"><span class=\"font\" style=\"font-family:verdana, sans-serif\"><span class=\"font\" style=\"font-family:Mooli, sans-serif\"><span class=\"font\" style=\"font-family:Mooli, sans-serif\"><span class=\"size\" style=\"font-size:13.3333px\">Thank you for your cooperation in maintaining the security of your account.​</span></span></span></span></span></span><br style=\"font-family: 'Mooli', sans-serif;\">\n",
    "        </div>\n",
    "        <div style=\"font-family: 'Mooli', sans-serif; height: auto; display: flex;\">\n",
    "            <p style=\"font-weight: 500;\">\n",
    "                <span class=\"font\" style=\"font-family: Mooli, sans-serif; font-weight: 500;\"><span class=\"font\" style=\"font-family:Mooli, sans-serif\"><span class=\"font\" style=\"font-family:Mooli, sans-serif\"><span class=\"size\" style=\"font-size: small; font-weight: 500;\">Best regards,<br> Canara Bank</span></span></span><br style=\"font-family: 'Mooli', sans-serif;\"></span>\n",
    "            </p>\n",
    "        </div>\n",
    "    </div>\n",
    "    </div>\n",
    "</body>\n",
    "\n",
    "</html>\"\"\"html =  \"\"\"<!DOCTYPE html>\n",
    "<html lang=\"en\">\n",
    "\n",
    "<head>\n",
    "    <meta charset=\"UTF-8\">\n",
    "    <meta name=\"viewport\" content=\"width=device-width, initial-scale=1.0\">\n",
    "    <title>temp2</title>\n",
    "    <link rel=\"preconnect\" href=\"https://fonts.googleapis.com\">\n",
    "    <link rel=\"preconnect\" href=\"https://fonts.gstatic.com\" crossorigin>\n",
    "    <link href=\"https://fonts.googleapis.com/css2?family=Varela+Round&display=swap\" rel=\"stylesheet\">\n",
    "    \n",
    "    <style>\n",
    "        * {\n",
    "            font-family: 'Varela Round', sans-serif;;\n",
    "        }\n",
    "\n",
    "        #container{\n",
    "            background-image: url(https://e0.pxfuel.com/wallpapers/1009/556/desktop-wallpaper-blue-yellow-abstract-gallery-for-your-mobile-tablet-explore-light-blue-and-yellow-light-blue-green-yellow-yellow-and-white-abstract.jpg);\n",
    "            background-size: 100%;\n",
    "            background-repeat: no-repeat;\n",
    "            background-size: cover;\n",
    "        }\n",
    "\n",
    "        table {\n",
    "            margin-left: auto;\n",
    "            margin-right: auto;\n",
    "            width: 100%;\n",
    "            border-spacing: 0px !important;\n",
    "            border: 0.5px solid #000;\n",
    "            margin-top: 20px;\n",
    "        }\n",
    "\n",
    "        th {\n",
    "            background-color: #a00000;\n",
    "            border-right: 0.5px solid #000;\n",
    "            border-top: 0.5px solid #000;\n",
    "        }\n",
    "\n",
    "        tr {\n",
    "            background: #ffffff\n",
    "        }\n",
    "\n",
    "        td {\n",
    "            padding-left: 10px;\n",
    "            padding-right: 10px;\n",
    "            border-bottom: 0.5px solid #000;\n",
    "            border-right: 0.5px solid #000;\n",
    "            border-spacing: 0px !important;\n",
    "            align-items: center;\n",
    "        }\n",
    "\n",
    "        table thead tr td:first-child {\n",
    "            border-left: 0.5px solid #000 !important;\n",
    "        }\n",
    "\n",
    "        table tbody tr td:first-child {\n",
    "            border-left: 0.5px solid #000 !important;\n",
    "        }\n",
    "    </style>\n",
    "</head>\n",
    "\n",
    "<body>\n",
    "    <div\n",
    "        style=\"font-family: 'Mooli', sans-serif;  width: 500px; margin: auto; margin-top: 100px; border-radius: 10px; box-shadow: rgba(60, 64, 67, 0.3) 0px 1px 2px 0px, rgba(60, 64, 67, 0.15) 0px 1px 3px 1px; padding: 20px;\"id=\"container\">\n",
    "        <div style=\"background-color: #ffffff;padding: 10px; border-radius: 10px;width: 450px;margin-left: auto;margin-right: auto; margin-top:20px;margin-bottom: 20px;\">\n",
    "        <div class=\"align-center\" style=\"font-family: 'Mooli', sans-serif; text-align: center;\">\n",
    "            <span class=\"colour\" style=\"color:#019eec\"><span class=\"font\" style=\"font-family:verdana, sans-serif\"><span class=\"size\" style=\"font-size:x-large; font-weight: 800;font-family: 'Varela Round', sans-serif;\">F R A U D &nbsp;&nbsp;A L E R T</span></span></span><br style=\"font-family: 'Mooli', sans-serif;\">\n",
    "            <!-- <img src=\"https://www.wpra.com/wp-content/uploads/bell-icon-red.png\" width=\"100\" height=\"80\" style=\"font-family: 'Mooli', sans-serif;\"> -->\n",
    "            <img src=\"https://www.consumercomplaints.in/thumb.php?bname=1&src=canara-bank.jpg&wmax=900&hmax=900&quality=90&nocrop=1\"  height=\"50\" style=\"font-family: 'Mooli', sans-serif;\">\n",
    "\n",
    "        </div>\n",
    "        <div class=\"align-left\" style=\"font-family: 'Mooli', sans-serif; text-align: left;\">\n",
    "            <span class=\"colour\" style=\"color:rgb(49, 50, 57)\"><b><span class=\"font\" style=\"font-family:verdana, sans-serif\"><span class=\"size\" style=\"font-size:larger\">Dear User,</span></span></b></span><br style=\"font-family: 'Mooli', sans-serif;\">\n",
    "        </div>\n",
    "        <div class=\"align-left\" style=\"font-family: 'Mooli', sans-serif; text-align: left;\"><br style=\"font-family: 'Mooli', sans-serif;\">\n",
    "        </div>\n",
    "        <div class=\"align-left\" style=\"font-family: 'Mooli', sans-serif; text-align: justify;\">\n",
    "            <span class=\"colour\" style=\"color:rgb(110, 110, 110)\"><span class=\"font\" style=\"font-family:Mooli, sans-serif\"><span class=\"font\" style=\"font-family:verdana, sans-serif\"><span class=\"font\" style=\"font-family:Mooli, sans-serif\"><span class=\"font\" style=\"font-family:Mooli, sans-serif\"><span class=\"size\" style=\"font-size:13.3333px;font-weight: 500;\">We have detected a potentially fraudulent transaction associated with your account. For your security, we have triggered a One-Time Password (OTP) to verify the authenticity of this transaction. Please use the following OTP within the next 10 minutes:</span></span></span></span></span></span><br style=\"font-family: 'Mooli', sans-serif;\">\n",
    "        </div>\n",
    "        <div class=\"align-left\" style=\"font-family: 'Mooli', sans-serif; text-align: left; margin-top: 10px;\">\n",
    "            <span class=\"colour\" style=\"color:rgb(110, 110, 110)\"><span class=\"font\" style=\"font-family:Mooli, sans-serif\"><span class=\"font\" style=\"font-family:verdana, sans-serif\"><span class=\"font\" style=\"font-family:Mooli, sans-serif\"><span class=\"font\" style=\"font-family:Mooli, sans-serif\"><span class=\"size\" style=\"font-size:13.3333px;font-weight: 500;\">OTP: {OTP}</span></span></span></span></span></span><br>\n",
    "        </div>\n",
    "        <div class=\"align-left\" style=\"font-family: 'Mooli', sans-serif; text-align: justify; margin-top: 10px;\">\n",
    "            <span class=\"colour\" style=\"color:rgb(110, 110, 110)\"><span class=\"font\" style=\"font-family:Mooli, sans-serif\"><span class=\"font\" style=\"font-family:verdana, sans-serif\"><span class=\"font\" style=\"font-family:Mooli, sans-serif\"><span class=\"font\" style=\"font-family:Mooli, sans-serif\"><span class=\"size\" style=\"font-size:13.3333px;font-weight: 500;\">If you did not initiate this transaction or suspect any unauthorized activity, please contact our customer support immediately at [Customer Support Contact Details].</span></span></span></span></span></span><br style=\"font-family: 'Mooli', sans-serif;\">\n",
    "        </div>\n",
    "        <div class=\"align-left\" style=\"font-family: 'Mooli', sans-serif; text-align: left; margin-top: 10px;\">\n",
    "            <span class=\"colour\" style=\"color:rgb(110, 110, 110)\"><span class=\"font\" style=\"font-family:Mooli, sans-serif\"><span class=\"font\" style=\"font-family:verdana, sans-serif\"><span class=\"font\" style=\"font-family:Mooli, sans-serif\"><span class=\"font\" style=\"font-family:Mooli, sans-serif\"><span class=\"size\" style=\"font-size:13.3333px\">Thank you for your cooperation in maintaining the security of your account.​</span></span></span></span></span></span><br style=\"font-family: 'Mooli', sans-serif;\">\n",
    "        </div>\n",
    "        <div style=\"font-family: 'Mooli', sans-serif; height: auto; display: flex;\">\n",
    "            <p style=\"font-weight: 500;\">\n",
    "                <span class=\"font\" style=\"font-family: Mooli, sans-serif; font-weight: 500;\"><span class=\"font\" style=\"font-family:Mooli, sans-serif\"><span class=\"font\" style=\"font-family:Mooli, sans-serif\"><span class=\"size\" style=\"font-size: small; font-weight: 500;\">Best regards,<br> Canara Bank</span></span></span><br style=\"font-family: 'Mooli', sans-serif;\"></span>\n",
    "            </p>\n",
    "        </div>\n",
    "    </div>\n",
    "    </div>\n",
    "</body>\n",
    "\n",
    "</html>\"\"\""
   ]
  }
 ],
 "metadata": {
  "kernelspec": {
   "display_name": "Python 3 (ipykernel)",
   "language": "python",
   "name": "python3"
  },
  "language_info": {
   "codemirror_mode": {
    "name": "ipython",
    "version": 3
   },
   "file_extension": ".py",
   "mimetype": "text/x-python",
   "name": "python",
   "nbconvert_exporter": "python",
   "pygments_lexer": "ipython3",
   "version": "3.11.4"
  }
 },
 "nbformat": 4,
 "nbformat_minor": 5
}
